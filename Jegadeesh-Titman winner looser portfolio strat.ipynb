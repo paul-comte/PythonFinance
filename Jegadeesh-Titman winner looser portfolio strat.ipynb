{
 "cells": [
  {
   "cell_type": "code",
   "execution_count": 31,
   "metadata": {},
   "outputs": [],
   "source": [
    "import pandas as pd\n",
    "import numpy as np\n",
    "import yfinance as yf\n",
    "import matplotlib.pyplot as plt"
   ]
  },
  {
   "cell_type": "code",
   "execution_count": 19,
   "metadata": {},
   "outputs": [
    {
     "name": "stderr",
     "output_type": "stream",
     "text": [
      "[*********************100%***********************]  39 of 39 completed\n"
     ]
    }
   ],
   "source": [
    "start_date = \"2010-01-01\"\n",
    "end_date = \"2024-01-01\"\n",
    "\n",
    "tickers = [\n",
    "    \"AC.PA\",   # Accor SA\n",
    "    \"AI.PA\",   # Air Liquide SA\n",
    "    \"AIR.PA\",  # Airbus SE\n",
    "    \"ALO.PA\",  # Alstom SA\n",
    "    \"MT.AS\",   # ArcelorMittal SA (coté à Amsterdam)\n",
    "    \"CS.PA\",   # AXA SA\n",
    "    \"BNP.PA\",  # BNP Paribas SA\n",
    "    \"EN.PA\",   # Bouygues SA\n",
    "    \"CAP.PA\",  # Capgemini SE\n",
    "    \"CA.PA\",   # Carrefour SA\n",
    "    \"ACA.PA\",  # Crédit Agricole SA\n",
    "    \"BN.PA\",   # Danone SA\n",
    "    \"DSY.PA\",  # Dassault Systèmes SE\n",
    "    \"ENGI.PA\", # Engie SA\n",
    "    \"EL.PA\",   # EssilorLuxottica SA\n",
    "    \"ERF.PA\",  # Eurofins Scientific SE\n",
    "    \"RMS.PA\",  # Hermès International SCA\n",
    "    \"KER.PA\",  # Kering SA\n",
    "    \"LR.PA\",   # Legrand SA\n",
    "    \"OR.PA\",   # L'Oréal SA\n",
    "    \"MC.PA\",   # LVMH Moët Hennessy Louis Vuitton SE\n",
    "    \"ML.PA\",   # Michelin\n",
    "    \"ORA.PA\",  # Orange SA\n",
    "    \"RI.PA\",   # Pernod Ricard SA\n",
    "    \"PUB.PA\",  # Publicis Groupe SA\n",
    "    \"RNO.PA\",  # Renault SA\n",
    "    \"SAF.PA\",  # Safran SA\n",
    "    \"SGO.PA\",  # Saint-Gobain SA\n",
    "    \"SAN.PA\",  # Sanofi SA\n",
    "    \"SU.PA\",   # Schneider Electric SE\n",
    "    \"GLE.PA\",  # Société Générale SA\n",
    "    \"STLA\", # Stellantis NV\n",
    "    \"STM\",  # STMicroelectronics NV\n",
    "    \"TEP.PA\",  # Teleperformance SE\n",
    "    \"HO.PA\",   # Thales SA\n",
    "    \"TTE.PA\",  # TotalEnergies SE\n",
    "    \"VIE.PA\",  # Veolia Environnement SA\n",
    "    \"DG.PA\",   # Vinci SA\n",
    "    \"VIV.PA\"   # Vivendi SE\n",
    "]\n",
    "\n",
    "data = yf.download(tickers, start=start_date, end=end_date, interval=\"1mo\").get(\"Close\").reset_index()\n",
    "data[\"Date\"] = data[\"Date\"].dt.strftime(\"%Y-%m\")\n",
    "data.set_index(\"Date\", inplace=True)\n",
    "\n",
    "#On transforme le dataframe en rendements mensuels par tickers\n",
    "for column in data.columns : \n",
    "    data[column] = data[column].diff()\n",
    "\n",
    "data.dropna(inplace=True)"
   ]
  },
  {
   "cell_type": "code",
   "execution_count": 13,
   "metadata": {},
   "outputs": [
    {
     "data": {
      "text/plain": [
       "(161, 39)"
      ]
     },
     "execution_count": 13,
     "metadata": {},
     "output_type": "execute_result"
    }
   ],
   "source": [
    "np.shape(data)"
   ]
  },
  {
   "cell_type": "markdown",
   "metadata": {},
   "source": [
    "**Dans un premier temps**\n",
    "\n",
    "On va tester la stratégie Winner / Looser sur la première période de 18 mois. Quelle est cette stratégie ? \n",
    "\n",
    "- Pour une période donnée de 12 mois, on commence par calculer le taux de rentabilité cumulé de chaque titre sur la période.\n",
    "\n",
    "- On prend les 10 titres avec le plus de rentabilité cumulée, et les 10 titres avec la rentabilité la plus faible, sur la période des 12 mois. Ils constituront **nos portfolios Looser et Winner**\n",
    "\n",
    "- On étudie la rentabilité des deux portefeuilles sur les 6 mois suivant la période d'analyse.\n",
    "\n",
    "- On donne le différentiel de rentabilité entre les deux portefeuilles."
   ]
  },
  {
   "cell_type": "code",
   "execution_count": 9,
   "metadata": {},
   "outputs": [
    {
     "name": "stdout",
     "output_type": "stream",
     "text": [
      "Top 10 : ['VIV.PA', 'VIE.PA', 'TTE.PA', 'TEP.PA', 'SU.PA', 'STM', 'STLA', 'SGO.PA', 'SAN.PA', 'SAF.PA']\n",
      "Worst 10: ['AC.PA', 'ACA.PA', 'AI.PA', 'AIR.PA', 'ALO.PA', 'BN.PA', 'BNP.PA', 'CA.PA', 'CAP.PA', 'CS.PA']\n",
      "\n",
      "RENTA TOP 10 - 6 MOIS APRÈS - LONG STRATEGY \n",
      "\n",
      " PNL total sur les 6 mois suivants : 15.643 €\n",
      "\n",
      "------------------------------------------------------------------------------\n",
      "\n",
      "RENTA WORST 10 - 6 MOIS APRÈS - SHORT STRATEGY \n",
      "\n",
      " PNL total sur les 6 mois suivants : -19.261 €\n"
     ]
    }
   ],
   "source": [
    "#On crée un dataframe pour l'étude des rendements cumulés sur les 12 premiers mois\n",
    "\n",
    "df_ret = pd.DataFrame()\n",
    "for column in data.columns:\n",
    "    #for i in range()\n",
    "    df_ret.loc[0,column] = data[column].head(12).sum()\n",
    "\n",
    "#On prend le top 10 et le worst 10 des rendements\n",
    "top_10 = sorted(df_ret, reverse=True)[:10]\n",
    "worst_10 = sorted(df_ret)[:10]\n",
    "print(f\"Top 10 : {top_10}\")\n",
    "print(f\"Worst 10: {worst_10}\")\n",
    "\n",
    "#On calcule le rendement des 10 top sur les 6 mois suivants \n",
    "print(\"\\nRENTA TOP 10 - 6 MOIS APRÈS - LONG STRATEGY \\n\")\n",
    "renta_6_after = {}\n",
    "for element in top_10:\n",
    "    renta_6_after[element] = data[element].head(19).tail(6).sum().round(3)\n",
    "    #print(f\" Renta sur les 6 mois suivants de {element} : {renta_6_after[element]} €\")\n",
    "\n",
    "renta_top_10 = round(sum(renta_6_after.values()),3)\n",
    "\n",
    "print(f\" PNL total sur les 6 mois suivants : {renta_top_10} €\")\n",
    "print(\"\\n------------------------------------------------------------------------------\")\n",
    "print(\"\\nRENTA WORST 10 - 6 MOIS APRÈS - SHORT STRATEGY \\n\")\n",
    "\n",
    "renta_6_after = {}\n",
    "for element in worst_10:\n",
    "    renta_6_after[element] = data[element].head(19).tail(6).sum().round(3)\n",
    "    #print(f\" Renta sur les 6 mois suivants de {element} : {renta_6_after[element]} €\")\n",
    "\n",
    "renta_worst_10 = round(sum(renta_6_after.values()),3)\n",
    "\n",
    "print(f\" PNL total sur les 6 mois suivants : {renta_worst_10} €\")\n"
   ]
  },
  {
   "cell_type": "markdown",
   "metadata": {},
   "source": [
    "On généralise le code précédent pour toutes les périodes entre 2010 et 2024. "
   ]
  },
  {
   "cell_type": "code",
   "execution_count": 35,
   "metadata": {},
   "outputs": [
    {
     "data": {
      "text/plain": [
       "[]"
      ]
     },
     "execution_count": 35,
     "metadata": {},
     "output_type": "execute_result"
    },
    {
     "data": {
      "image/png": "[encoded data removed]",
      "text/plain": [
       "<Figure size 1200x600 with 1 Axes>"
      ]
     },
     "metadata": {},
     "output_type": "display_data"
    }
   ],
   "source": [
    "df_ret = pd.DataFrame()\n",
    "renta_totale = []\n",
    "\n",
    "for period in range(0,round((len(data)+1)/18),1):\n",
    "\n",
    "    #Identification des portefeuilles Winner & Loser (composés de 10 titres) en analysant une période de 12 mois\n",
    "    for column in data.columns:\n",
    "        df_ret.loc[period,column] = data[column].head((period+1)*12).sum()\n",
    "    \n",
    "    top_10 = sorted(df_ret, reverse=True)[:10]\n",
    "    worst_10 = sorted(df_ret)[:10]\n",
    "\n",
    "    #Calcul de la rentabilité sur les 6 mois suivants\n",
    "\n",
    "    #Calcul de la rentabilité des titres Winner\n",
    "    renta_6_after_top = {}\n",
    "    for element in top_10:\n",
    "        renta_6_after_top[element] = data[element].head((period+1)*19).tail(6).sum().round(3)\n",
    "    renta_top_10 = round(sum(renta_6_after_top.values()),3)\n",
    "\n",
    "    #Calcul de la rentabilité des titres Looser\n",
    "    renta_6_after_worst = {}\n",
    "    for element in worst_10:\n",
    "        renta_6_after_worst[element] = data[element].head(19).tail(6).sum().round(3)\n",
    "    renta_worst_10 = round(sum(renta_6_after_worst.values()),3)\n",
    "\n",
    "    #Calcul du différentiel de rentabilité\n",
    "    renta_diff = (renta_top_10 - renta_worst_10) / renta_worst_10\n",
    "    renta_totale.append(renta_diff)\n",
    "\n",
    "renta_totale = pd.DataFrame(renta_totale)\n",
    "renta_totale.columns = [\"Renta Strat Winner/Loser\"]\n",
    "\n",
    "#Maintenant regardons la rentabilité cumulée au fil du temps\n",
    "renta_totale_cumulée = renta_totale.cumsum()\n",
    "\n",
    "#On plot\n",
    "plt.figure(figsize=(12,6))\n",
    "plt.plot(renta_totale_cumulée, label= \"Cumul du ratio du différentiel de rentabilité\", c=\"orange\")\n",
    "plt.title(\"Comparaison de rentabilité portefeuille Winner/Looser - 2010 à 2024\")\n",
    "plt.legend()\n",
    "plt.plot()"
   ]
  },
  {
   "cell_type": "markdown",
   "metadata": {},
   "source": [
    "On peut en conclure que le portfolio Winner a fait 20 fois plus de rentabilité que le portfolio Looser au cours de la période 2010 à 2024."
   ]
  },
  {
   "cell_type": "code",
   "execution_count": null,
   "metadata": {},
   "outputs": [],
   "source": []
  },
  {
   "cell_type": "code",
   "execution_count": null,
   "metadata": {},
   "outputs": [],
   "source": []
  }
 ],
 "metadata": {
  "kernelspec": {
   "display_name": "Python 3",
   "language": "python",
   "name": "python3"
  },
  "language_info": {
   "codemirror_mode": {
    "name": "ipython",
    "version": 3
   },
   "file_extension": ".py",
   "mimetype": "text/x-python",
   "name": "python",
   "nbconvert_exporter": "python",
   "pygments_lexer": "ipython3",
   "version": "3.12.6"
  }
 },
 "nbformat": 4,
 "nbformat_minor": 2
}
